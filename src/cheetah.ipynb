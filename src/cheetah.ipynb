{
 "cells": [
  {
   "metadata": {},
   "cell_type": "code",
   "outputs": [],
   "execution_count": 118,
   "source": [
    "from langchain_core.prompts.chat import ChatPromptTemplate\n",
    "from langchain_community.llms.ollama import Ollama\n",
    "from langchain.vectorstores.chroma import Chroma"
   ],
   "id": "3b51960b47868200"
  },
  {
   "metadata": {
    "ExecuteTime": {
     "end_time": "2024-06-26T19:31:58.179691Z",
     "start_time": "2024-06-26T19:31:58.172269Z"
    }
   },
   "cell_type": "code",
   "source": [
    "from core import get_embedding_function\n",
    "from docs_pipeline import load_document_from_pdf, split_documents\n",
    "from vector_db import add_to_chroma\n",
    "from rag_pipeline import query_rag"
   ],
   "id": "de0b75ed148b9e95",
   "outputs": [],
   "execution_count": 123
  },
  {
   "metadata": {},
   "cell_type": "code",
   "outputs": [],
   "execution_count": null,
   "source": [
    "DATA_PATH = '../data'\n",
    "\n",
    "EMBEDDING_MODEL_NAME = 'nomic-embed-text'\n",
    "CHAT_MODEL_NAME = 'phi3'"
   ],
   "id": "dded569a1a90ffec"
  },
  {
   "metadata": {},
   "cell_type": "code",
   "source": [
    "def prepare_db()-> None:\n",
    "    documents = load_document_from_pdf(DATA_PATH)\n",
    "    chunks = split_documents(documents)\n",
    "    add_to_chroma(chunks, get_embedding_function(EMBEDDING_MODEL_NAME))\n",
    "    "
   ],
   "id": "de654b4e11ecc98f",
   "outputs": [],
   "execution_count": null
  },
  {
   "metadata": {},
   "cell_type": "code",
   "outputs": [],
   "execution_count": null,
   "source": [
    "def read_prompt_template(template_path: str) -> str:\n",
    "    with open(template_path, 'r') as f:\n",
    "        return f.read()"
   ],
   "id": "453df9e5c6d134d7"
  },
  {
   "metadata": {},
   "cell_type": "code",
   "source": "prepare_db()",
   "id": "a1dd68b1217d7d3a",
   "outputs": [],
   "execution_count": null
  },
  {
   "metadata": {},
   "cell_type": "code",
   "source": [
    "db = Chroma(\n",
    "    persist_directory=CHROMA_PATH,\n",
    "    embedding_function=get_embedding_function(EMBEDDING_MODEL_NAME),\n",
    ")"
   ],
   "id": "7af3565918d93441",
   "outputs": [],
   "execution_count": null
  },
  {
   "metadata": {
    "ExecuteTime": {
     "end_time": "2024-06-26T19:32:23.608725Z",
     "start_time": "2024-06-26T19:32:11.271983Z"
    }
   },
   "cell_type": "code",
   "source": [
    "query = ('In a direct time-of-flight (ToF) laser rangefinder or scanner the results of distance measurements'\n",
    "         'a) greatly depend on the optical properties of the observed surface, particularly the roughness of the surface'\n",
    "         'b) little depend on the optical properties of the observed surface.'\n",
    "         'c) greatly depend on the optical properties of the observed surface, particularly the absorbtion coefficient.')\n",
    "         \n",
    "prompt_template = read_prompt_template('prompt.tplt')\n",
    "response, prompt, sources = query_rag(query, prompt_template, Ollama(model=CHAT_MODEL_NAME), db)\n",
    "response"
   ],
   "id": "9020a9fb1a3cd0d8",
   "outputs": [
    {
     "data": {
      "text/plain": [
       "\"Response: In a direct time-of-flight (ToF) laser rangefinder or scanner, the results of distance measurements little depend on the optical properties of the observed surfaceb) little depend on the optical properties of the observed surface.\\n\\n---\\nNote: The provided answer is based sole Written content from given context and does not consider other potential information sources.\\nSources: ['data\\\\\\\\aimp-3.pdf:12:0', 'data\\\\\\\\aimp-3.pdf:4:0', 'data\\\\\\\\aimp-3.pdf:14:0', 'data\\\\\\\\aimp-3.pdf:7:1', 'data\\\\\\\\aimp-3.pdf:13:0']\""
      ]
     },
     "execution_count": 124,
     "metadata": {},
     "output_type": "execute_result"
    }
   ],
   "execution_count": 124
  }
 ],
 "metadata": {
  "kernelspec": {
   "display_name": "Python 3",
   "language": "python",
   "name": "python3"
  },
  "language_info": {
   "codemirror_mode": {
    "name": "ipython",
    "version": 2
   },
   "file_extension": ".py",
   "mimetype": "text/x-python",
   "name": "python",
   "nbconvert_exporter": "python",
   "pygments_lexer": "ipython2",
   "version": "2.7.6"
  }
 },
 "nbformat": 4,
 "nbformat_minor": 5
}
